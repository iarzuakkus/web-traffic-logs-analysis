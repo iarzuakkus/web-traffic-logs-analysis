{
 "cells": [
  {
   "cell_type": "code",
   "execution_count": 1,
   "id": "06706947",
   "metadata": {},
   "outputs": [],
   "source": [
    "# Kütüphanelerin Yüklenmesi\n",
    "import warnings\n",
    "warnings.filterwarnings(\"ignore\")\n",
    "import pandas as pd\n",
    "import numpy as np\n",
    "from sklearn.preprocessing import LabelEncoder, StandardScaler\n",
    "from sklearn.feature_extraction.text import TfidfVectorizer\n",
    "import faiss\n",
    "import openai\n",
    "import os"
   ]
  },
  {
   "cell_type": "code",
   "execution_count": 2,
   "id": "6ac61495",
   "metadata": {},
   "outputs": [
    {
     "data": {
      "text/html": [
       "<div>\n",
       "<style scoped>\n",
       "    .dataframe tbody tr th:only-of-type {\n",
       "        vertical-align: middle;\n",
       "    }\n",
       "\n",
       "    .dataframe tbody tr th {\n",
       "        vertical-align: top;\n",
       "    }\n",
       "\n",
       "    .dataframe thead th {\n",
       "        text-align: right;\n",
       "    }\n",
       "</style>\n",
       "<table border=\"1\" class=\"dataframe\">\n",
       "  <thead>\n",
       "    <tr style=\"text-align: right;\">\n",
       "      <th></th>\n",
       "      <th>IP_Address</th>\n",
       "      <th>Timestamp</th>\n",
       "      <th>HTTP_Method</th>\n",
       "      <th>Path</th>\n",
       "      <th>Status_Code</th>\n",
       "      <th>Response_Size</th>\n",
       "    </tr>\n",
       "  </thead>\n",
       "  <tbody>\n",
       "    <tr>\n",
       "      <th>0</th>\n",
       "      <td>172.16.0.1</td>\n",
       "      <td>14/Aug/2024:19:11:48 +0000</td>\n",
       "      <td>PUT</td>\n",
       "      <td>/services.html</td>\n",
       "      <td>500</td>\n",
       "      <td>3058.0</td>\n",
       "    </tr>\n",
       "    <tr>\n",
       "      <th>1</th>\n",
       "      <td>172.16.0.1</td>\n",
       "      <td>14/Aug/2024:19:23:04 +0000</td>\n",
       "      <td>GET</td>\n",
       "      <td>/services.html</td>\n",
       "      <td>302</td>\n",
       "      <td>3856.0</td>\n",
       "    </tr>\n",
       "    <tr>\n",
       "      <th>2</th>\n",
       "      <td>172.16.0.2</td>\n",
       "      <td>14/Aug/2024:19:16:53 +0000</td>\n",
       "      <td>DELETE</td>\n",
       "      <td>/products.html</td>\n",
       "      <td>500</td>\n",
       "      <td>2671.0</td>\n",
       "    </tr>\n",
       "    <tr>\n",
       "      <th>3</th>\n",
       "      <td>192.168.1.2</td>\n",
       "      <td>14/Aug/2024:19:35:59 +0000</td>\n",
       "      <td>PUT</td>\n",
       "      <td>/contact.html</td>\n",
       "      <td>302</td>\n",
       "      <td>4207.0</td>\n",
       "    </tr>\n",
       "    <tr>\n",
       "      <th>4</th>\n",
       "      <td>192.168.1.1</td>\n",
       "      <td>14/Aug/2024:20:02:29 +0000</td>\n",
       "      <td>POST</td>\n",
       "      <td>/contact.html</td>\n",
       "      <td>302</td>\n",
       "      <td>937.0</td>\n",
       "    </tr>\n",
       "    <tr>\n",
       "      <th>...</th>\n",
       "      <td>...</td>\n",
       "      <td>...</td>\n",
       "      <td>...</td>\n",
       "      <td>...</td>\n",
       "      <td>...</td>\n",
       "      <td>...</td>\n",
       "    </tr>\n",
       "    <tr>\n",
       "      <th>1995</th>\n",
       "      <td>172.16.0.1</td>\n",
       "      <td>14/Aug/2024:19:34:19 +0000</td>\n",
       "      <td>PUT</td>\n",
       "      <td>/products.html</td>\n",
       "      <td>404</td>\n",
       "      <td>1677.0</td>\n",
       "    </tr>\n",
       "    <tr>\n",
       "      <th>1996</th>\n",
       "      <td>192.168.1.2</td>\n",
       "      <td>14/Aug/2024:19:09:32 +0000</td>\n",
       "      <td>DELETE</td>\n",
       "      <td>/contact.html</td>\n",
       "      <td>302</td>\n",
       "      <td>4802.0</td>\n",
       "    </tr>\n",
       "    <tr>\n",
       "      <th>1997</th>\n",
       "      <td>10.0.0.1</td>\n",
       "      <td>14/Aug/2024:20:03:20 +0000</td>\n",
       "      <td>DELETE</td>\n",
       "      <td>/about.html</td>\n",
       "      <td>404</td>\n",
       "      <td>4647.0</td>\n",
       "    </tr>\n",
       "    <tr>\n",
       "      <th>1998</th>\n",
       "      <td>10.0.0.1</td>\n",
       "      <td>14/Aug/2024:19:47:15 +0000</td>\n",
       "      <td>GET</td>\n",
       "      <td>/index.html</td>\n",
       "      <td>404</td>\n",
       "      <td>3788.0</td>\n",
       "    </tr>\n",
       "    <tr>\n",
       "      <th>1999</th>\n",
       "      <td>172.16.0.1</td>\n",
       "      <td>14/Aug/2024:19:34:14 +0000</td>\n",
       "      <td>POST</td>\n",
       "      <td>/contact.html</td>\n",
       "      <td>200</td>\n",
       "      <td>4597.0</td>\n",
       "    </tr>\n",
       "  </tbody>\n",
       "</table>\n",
       "<p>2000 rows × 6 columns</p>\n",
       "</div>"
      ],
      "text/plain": [
       "       IP_Address                   Timestamp HTTP_Method            Path  \\\n",
       "0      172.16.0.1  14/Aug/2024:19:11:48 +0000         PUT  /services.html   \n",
       "1      172.16.0.1  14/Aug/2024:19:23:04 +0000         GET  /services.html   \n",
       "2      172.16.0.2  14/Aug/2024:19:16:53 +0000      DELETE  /products.html   \n",
       "3     192.168.1.2  14/Aug/2024:19:35:59 +0000         PUT   /contact.html   \n",
       "4     192.168.1.1  14/Aug/2024:20:02:29 +0000        POST   /contact.html   \n",
       "...           ...                         ...         ...             ...   \n",
       "1995   172.16.0.1  14/Aug/2024:19:34:19 +0000         PUT  /products.html   \n",
       "1996  192.168.1.2  14/Aug/2024:19:09:32 +0000      DELETE   /contact.html   \n",
       "1997     10.0.0.1  14/Aug/2024:20:03:20 +0000      DELETE     /about.html   \n",
       "1998     10.0.0.1  14/Aug/2024:19:47:15 +0000         GET     /index.html   \n",
       "1999   172.16.0.1  14/Aug/2024:19:34:14 +0000        POST   /contact.html   \n",
       "\n",
       "      Status_Code  Response_Size  \n",
       "0             500         3058.0  \n",
       "1             302         3856.0  \n",
       "2             500         2671.0  \n",
       "3             302         4207.0  \n",
       "4             302          937.0  \n",
       "...           ...            ...  \n",
       "1995          404         1677.0  \n",
       "1996          302         4802.0  \n",
       "1997          404         4647.0  \n",
       "1998          404         3788.0  \n",
       "1999          200         4597.0  \n",
       "\n",
       "[2000 rows x 6 columns]"
      ]
     },
     "execution_count": 2,
     "metadata": {},
     "output_type": "execute_result"
    }
   ],
   "source": [
    "# Verinin Okunması\n",
    "df = pd.read_csv('web_traffic_log.csv')\n",
    "df"
   ]
  },
  {
   "cell_type": "code",
   "execution_count": 3,
   "id": "e3ab3345",
   "metadata": {},
   "outputs": [
    {
     "name": "stdout",
     "output_type": "stream",
     "text": [
      "<class 'pandas.core.frame.DataFrame'>\n",
      "RangeIndex: 2000 entries, 0 to 1999\n",
      "Data columns (total 6 columns):\n",
      " #   Column         Non-Null Count  Dtype  \n",
      "---  ------         --------------  -----  \n",
      " 0   IP_Address     2000 non-null   object \n",
      " 1   Timestamp      1992 non-null   object \n",
      " 2   HTTP_Method    1994 non-null   object \n",
      " 3   Path           2000 non-null   object \n",
      " 4   Status_Code    2000 non-null   int64  \n",
      " 5   Response_Size  1991 non-null   float64\n",
      "dtypes: float64(1), int64(1), object(4)\n",
      "memory usage: 93.9+ KB\n"
     ]
    }
   ],
   "source": [
    "df.info()  # Eksik verilerin tespitini ve veriler hakkında genel bilgi verir\n"
   ]
  },
  {
   "cell_type": "code",
   "execution_count": 4,
   "id": "2df8a958",
   "metadata": {},
   "outputs": [
    {
     "data": {
      "text/html": [
       "<div>\n",
       "<style scoped>\n",
       "    .dataframe tbody tr th:only-of-type {\n",
       "        vertical-align: middle;\n",
       "    }\n",
       "\n",
       "    .dataframe tbody tr th {\n",
       "        vertical-align: top;\n",
       "    }\n",
       "\n",
       "    .dataframe thead th {\n",
       "        text-align: right;\n",
       "    }\n",
       "</style>\n",
       "<table border=\"1\" class=\"dataframe\">\n",
       "  <thead>\n",
       "    <tr style=\"text-align: right;\">\n",
       "      <th></th>\n",
       "      <th>Status_Code</th>\n",
       "      <th>Response_Size</th>\n",
       "    </tr>\n",
       "  </thead>\n",
       "  <tbody>\n",
       "    <tr>\n",
       "      <th>count</th>\n",
       "      <td>2000.000000</td>\n",
       "      <td>1991.000000</td>\n",
       "    </tr>\n",
       "    <tr>\n",
       "      <th>mean</th>\n",
       "      <td>344.615000</td>\n",
       "      <td>2586.296836</td>\n",
       "    </tr>\n",
       "    <tr>\n",
       "      <th>std</th>\n",
       "      <td>112.549018</td>\n",
       "      <td>1371.962637</td>\n",
       "    </tr>\n",
       "    <tr>\n",
       "      <th>min</th>\n",
       "      <td>200.000000</td>\n",
       "      <td>205.000000</td>\n",
       "    </tr>\n",
       "    <tr>\n",
       "      <th>25%</th>\n",
       "      <td>200.000000</td>\n",
       "      <td>1425.500000</td>\n",
       "    </tr>\n",
       "    <tr>\n",
       "      <th>50%</th>\n",
       "      <td>302.000000</td>\n",
       "      <td>2558.000000</td>\n",
       "    </tr>\n",
       "    <tr>\n",
       "      <th>75%</th>\n",
       "      <td>404.000000</td>\n",
       "      <td>3767.500000</td>\n",
       "    </tr>\n",
       "    <tr>\n",
       "      <th>max</th>\n",
       "      <td>500.000000</td>\n",
       "      <td>4998.000000</td>\n",
       "    </tr>\n",
       "  </tbody>\n",
       "</table>\n",
       "</div>"
      ],
      "text/plain": [
       "       Status_Code  Response_Size\n",
       "count  2000.000000    1991.000000\n",
       "mean    344.615000    2586.296836\n",
       "std     112.549018    1371.962637\n",
       "min     200.000000     205.000000\n",
       "25%     200.000000    1425.500000\n",
       "50%     302.000000    2558.000000\n",
       "75%     404.000000    3767.500000\n",
       "max     500.000000    4998.000000"
      ]
     },
     "execution_count": 4,
     "metadata": {},
     "output_type": "execute_result"
    }
   ],
   "source": [
    "df.describe()"
   ]
  },
  {
   "cell_type": "code",
   "execution_count": 5,
   "id": "b45de9e4",
   "metadata": {},
   "outputs": [
    {
     "data": {
      "text/html": [
       "<div>\n",
       "<style scoped>\n",
       "    .dataframe tbody tr th:only-of-type {\n",
       "        vertical-align: middle;\n",
       "    }\n",
       "\n",
       "    .dataframe tbody tr th {\n",
       "        vertical-align: top;\n",
       "    }\n",
       "\n",
       "    .dataframe thead th {\n",
       "        text-align: right;\n",
       "    }\n",
       "</style>\n",
       "<table border=\"1\" class=\"dataframe\">\n",
       "  <thead>\n",
       "    <tr style=\"text-align: right;\">\n",
       "      <th></th>\n",
       "      <th>IP_Address</th>\n",
       "      <th>Timestamp</th>\n",
       "      <th>HTTP_Method</th>\n",
       "      <th>Path</th>\n",
       "      <th>Status_Code</th>\n",
       "      <th>Response_Size</th>\n",
       "    </tr>\n",
       "  </thead>\n",
       "  <tbody>\n",
       "    <tr>\n",
       "      <th>128</th>\n",
       "      <td>10.0.0.1</td>\n",
       "      <td>14/Aug/2024:19:55:53 +0000</td>\n",
       "      <td>PUT</td>\n",
       "      <td>/products.html</td>\n",
       "      <td>500</td>\n",
       "      <td>NaN</td>\n",
       "    </tr>\n",
       "    <tr>\n",
       "      <th>219</th>\n",
       "      <td>172.16.0.1</td>\n",
       "      <td>14/Aug/2024:19:59:21 +0000</td>\n",
       "      <td>DELETE</td>\n",
       "      <td>/products.html</td>\n",
       "      <td>302</td>\n",
       "      <td>NaN</td>\n",
       "    </tr>\n",
       "    <tr>\n",
       "      <th>231</th>\n",
       "      <td>10.0.0.2</td>\n",
       "      <td>NaN</td>\n",
       "      <td>GET</td>\n",
       "      <td>/about.html</td>\n",
       "      <td>404</td>\n",
       "      <td>2326.0</td>\n",
       "    </tr>\n",
       "    <tr>\n",
       "      <th>297</th>\n",
       "      <td>192.168.1.1</td>\n",
       "      <td>14/Aug/2024:19:15:04 +0000</td>\n",
       "      <td>PUT</td>\n",
       "      <td>/services.html</td>\n",
       "      <td>404</td>\n",
       "      <td>NaN</td>\n",
       "    </tr>\n",
       "    <tr>\n",
       "      <th>438</th>\n",
       "      <td>10.0.0.1</td>\n",
       "      <td>NaN</td>\n",
       "      <td>GET</td>\n",
       "      <td>/services.html</td>\n",
       "      <td>200</td>\n",
       "      <td>390.0</td>\n",
       "    </tr>\n",
       "    <tr>\n",
       "      <th>460</th>\n",
       "      <td>192.168.1.1</td>\n",
       "      <td>NaN</td>\n",
       "      <td>PUT</td>\n",
       "      <td>/contact.html</td>\n",
       "      <td>302</td>\n",
       "      <td>4354.0</td>\n",
       "    </tr>\n",
       "    <tr>\n",
       "      <th>472</th>\n",
       "      <td>10.0.0.2</td>\n",
       "      <td>NaN</td>\n",
       "      <td>GET</td>\n",
       "      <td>/about.html</td>\n",
       "      <td>200</td>\n",
       "      <td>2286.0</td>\n",
       "    </tr>\n",
       "    <tr>\n",
       "      <th>473</th>\n",
       "      <td>10.0.0.1</td>\n",
       "      <td>14/Aug/2024:19:33:26 +0000</td>\n",
       "      <td>NaN</td>\n",
       "      <td>/products.html</td>\n",
       "      <td>302</td>\n",
       "      <td>663.0</td>\n",
       "    </tr>\n",
       "    <tr>\n",
       "      <th>645</th>\n",
       "      <td>172.16.0.1</td>\n",
       "      <td>14/Aug/2024:19:32:38 +0000</td>\n",
       "      <td>NaN</td>\n",
       "      <td>/products.html</td>\n",
       "      <td>500</td>\n",
       "      <td>NaN</td>\n",
       "    </tr>\n",
       "    <tr>\n",
       "      <th>784</th>\n",
       "      <td>10.0.0.2</td>\n",
       "      <td>14/Aug/2024:19:22:05 +0000</td>\n",
       "      <td>PUT</td>\n",
       "      <td>/services.html</td>\n",
       "      <td>404</td>\n",
       "      <td>NaN</td>\n",
       "    </tr>\n",
       "    <tr>\n",
       "      <th>792</th>\n",
       "      <td>192.168.1.2</td>\n",
       "      <td>14/Aug/2024:20:00:33 +0000</td>\n",
       "      <td>NaN</td>\n",
       "      <td>/about.html</td>\n",
       "      <td>200</td>\n",
       "      <td>4341.0</td>\n",
       "    </tr>\n",
       "    <tr>\n",
       "      <th>876</th>\n",
       "      <td>10.0.0.2</td>\n",
       "      <td>NaN</td>\n",
       "      <td>GET</td>\n",
       "      <td>/contact.html</td>\n",
       "      <td>500</td>\n",
       "      <td>4947.0</td>\n",
       "    </tr>\n",
       "    <tr>\n",
       "      <th>944</th>\n",
       "      <td>172.16.0.2</td>\n",
       "      <td>14/Aug/2024:19:55:13 +0000</td>\n",
       "      <td>NaN</td>\n",
       "      <td>/products.html</td>\n",
       "      <td>500</td>\n",
       "      <td>2203.0</td>\n",
       "    </tr>\n",
       "    <tr>\n",
       "      <th>1237</th>\n",
       "      <td>10.0.0.2</td>\n",
       "      <td>14/Aug/2024:19:21:08 +0000</td>\n",
       "      <td>POST</td>\n",
       "      <td>/services.html</td>\n",
       "      <td>500</td>\n",
       "      <td>NaN</td>\n",
       "    </tr>\n",
       "    <tr>\n",
       "      <th>1257</th>\n",
       "      <td>172.16.0.1</td>\n",
       "      <td>14/Aug/2024:20:00:16 +0000</td>\n",
       "      <td>DELETE</td>\n",
       "      <td>/products.html</td>\n",
       "      <td>200</td>\n",
       "      <td>NaN</td>\n",
       "    </tr>\n",
       "    <tr>\n",
       "      <th>1292</th>\n",
       "      <td>192.168.1.1</td>\n",
       "      <td>14/Aug/2024:19:10:31 +0000</td>\n",
       "      <td>NaN</td>\n",
       "      <td>/contact.html</td>\n",
       "      <td>302</td>\n",
       "      <td>1818.0</td>\n",
       "    </tr>\n",
       "    <tr>\n",
       "      <th>1375</th>\n",
       "      <td>172.16.0.2</td>\n",
       "      <td>NaN</td>\n",
       "      <td>POST</td>\n",
       "      <td>/contact.html</td>\n",
       "      <td>302</td>\n",
       "      <td>1600.0</td>\n",
       "    </tr>\n",
       "    <tr>\n",
       "      <th>1464</th>\n",
       "      <td>172.16.0.2</td>\n",
       "      <td>14/Aug/2024:19:35:32 +0000</td>\n",
       "      <td>NaN</td>\n",
       "      <td>/index.html</td>\n",
       "      <td>302</td>\n",
       "      <td>1683.0</td>\n",
       "    </tr>\n",
       "    <tr>\n",
       "      <th>1606</th>\n",
       "      <td>10.0.0.1</td>\n",
       "      <td>14/Aug/2024:19:32:30 +0000</td>\n",
       "      <td>PUT</td>\n",
       "      <td>/services.html</td>\n",
       "      <td>200</td>\n",
       "      <td>NaN</td>\n",
       "    </tr>\n",
       "    <tr>\n",
       "      <th>1627</th>\n",
       "      <td>172.16.0.2</td>\n",
       "      <td>NaN</td>\n",
       "      <td>PUT</td>\n",
       "      <td>/products.html</td>\n",
       "      <td>200</td>\n",
       "      <td>1330.0</td>\n",
       "    </tr>\n",
       "    <tr>\n",
       "      <th>1861</th>\n",
       "      <td>192.168.1.2</td>\n",
       "      <td>NaN</td>\n",
       "      <td>DELETE</td>\n",
       "      <td>/index.html</td>\n",
       "      <td>500</td>\n",
       "      <td>611.0</td>\n",
       "    </tr>\n",
       "    <tr>\n",
       "      <th>1927</th>\n",
       "      <td>192.168.1.2</td>\n",
       "      <td>14/Aug/2024:19:59:41 +0000</td>\n",
       "      <td>POST</td>\n",
       "      <td>/products.html</td>\n",
       "      <td>302</td>\n",
       "      <td>NaN</td>\n",
       "    </tr>\n",
       "  </tbody>\n",
       "</table>\n",
       "</div>"
      ],
      "text/plain": [
       "       IP_Address                   Timestamp HTTP_Method            Path  \\\n",
       "128      10.0.0.1  14/Aug/2024:19:55:53 +0000         PUT  /products.html   \n",
       "219    172.16.0.1  14/Aug/2024:19:59:21 +0000      DELETE  /products.html   \n",
       "231      10.0.0.2                         NaN         GET     /about.html   \n",
       "297   192.168.1.1  14/Aug/2024:19:15:04 +0000         PUT  /services.html   \n",
       "438      10.0.0.1                         NaN         GET  /services.html   \n",
       "460   192.168.1.1                         NaN         PUT   /contact.html   \n",
       "472      10.0.0.2                         NaN         GET     /about.html   \n",
       "473      10.0.0.1  14/Aug/2024:19:33:26 +0000         NaN  /products.html   \n",
       "645    172.16.0.1  14/Aug/2024:19:32:38 +0000         NaN  /products.html   \n",
       "784      10.0.0.2  14/Aug/2024:19:22:05 +0000         PUT  /services.html   \n",
       "792   192.168.1.2  14/Aug/2024:20:00:33 +0000         NaN     /about.html   \n",
       "876      10.0.0.2                         NaN         GET   /contact.html   \n",
       "944    172.16.0.2  14/Aug/2024:19:55:13 +0000         NaN  /products.html   \n",
       "1237     10.0.0.2  14/Aug/2024:19:21:08 +0000        POST  /services.html   \n",
       "1257   172.16.0.1  14/Aug/2024:20:00:16 +0000      DELETE  /products.html   \n",
       "1292  192.168.1.1  14/Aug/2024:19:10:31 +0000         NaN   /contact.html   \n",
       "1375   172.16.0.2                         NaN        POST   /contact.html   \n",
       "1464   172.16.0.2  14/Aug/2024:19:35:32 +0000         NaN     /index.html   \n",
       "1606     10.0.0.1  14/Aug/2024:19:32:30 +0000         PUT  /services.html   \n",
       "1627   172.16.0.2                         NaN         PUT  /products.html   \n",
       "1861  192.168.1.2                         NaN      DELETE     /index.html   \n",
       "1927  192.168.1.2  14/Aug/2024:19:59:41 +0000        POST  /products.html   \n",
       "\n",
       "      Status_Code  Response_Size  \n",
       "128           500            NaN  \n",
       "219           302            NaN  \n",
       "231           404         2326.0  \n",
       "297           404            NaN  \n",
       "438           200          390.0  \n",
       "460           302         4354.0  \n",
       "472           200         2286.0  \n",
       "473           302          663.0  \n",
       "645           500            NaN  \n",
       "784           404            NaN  \n",
       "792           200         4341.0  \n",
       "876           500         4947.0  \n",
       "944           500         2203.0  \n",
       "1237          500            NaN  \n",
       "1257          200            NaN  \n",
       "1292          302         1818.0  \n",
       "1375          302         1600.0  \n",
       "1464          302         1683.0  \n",
       "1606          200            NaN  \n",
       "1627          200         1330.0  \n",
       "1861          500          611.0  \n",
       "1927          302            NaN  "
      ]
     },
     "execution_count": 5,
     "metadata": {},
     "output_type": "execute_result"
    }
   ],
   "source": [
    "df[df.isnull().any(axis=1)]\n"
   ]
  },
  {
   "cell_type": "code",
   "execution_count": 6,
   "id": "0690ab54",
   "metadata": {},
   "outputs": [],
   "source": [
    "df = df.dropna(subset=['Timestamp'])\n",
    "df = df.dropna(subset=['HTTP_Method'])"
   ]
  },
  {
   "cell_type": "code",
   "execution_count": 7,
   "id": "f273b3d2",
   "metadata": {},
   "outputs": [],
   "source": [
    "df['Response_Size'] = df['Response_Size'].fillna(df['Response_Size'].mean())"
   ]
  },
  {
   "cell_type": "code",
   "execution_count": 8,
   "id": "2f7e0284",
   "metadata": {},
   "outputs": [
    {
     "name": "stdout",
     "output_type": "stream",
     "text": [
      "<class 'pandas.core.frame.DataFrame'>\n",
      "Index: 1986 entries, 0 to 1999\n",
      "Data columns (total 6 columns):\n",
      " #   Column         Non-Null Count  Dtype  \n",
      "---  ------         --------------  -----  \n",
      " 0   IP_Address     1986 non-null   object \n",
      " 1   Timestamp      1986 non-null   object \n",
      " 2   HTTP_Method    1986 non-null   object \n",
      " 3   Path           1986 non-null   object \n",
      " 4   Status_Code    1986 non-null   int64  \n",
      " 5   Response_Size  1986 non-null   float64\n",
      "dtypes: float64(1), int64(1), object(4)\n",
      "memory usage: 108.6+ KB\n"
     ]
    }
   ],
   "source": [
    "df.info()  # Veri setimizde artık NaN değerler bulunmamakta"
   ]
  },
  {
   "cell_type": "code",
   "execution_count": 9,
   "id": "43b5df9b",
   "metadata": {},
   "outputs": [],
   "source": [
    "df['Timestamp'] = pd.to_datetime(df['Timestamp'], format='%d/%b/%Y:%H:%M:%S %z')\n",
    "df['Timestamp_unix'] = df['Timestamp'].view('int64') / 10**9  # Unix zamanı saniye cinsinden"
   ]
  },
  {
   "cell_type": "code",
   "execution_count": 10,
   "id": "10cd1546",
   "metadata": {},
   "outputs": [],
   "source": [
    "df = pd.get_dummies(df, columns=['HTTP_Method'])"
   ]
  },
  {
   "cell_type": "code",
   "execution_count": 11,
   "id": "d4daf192",
   "metadata": {},
   "outputs": [],
   "source": [
    "label_encoder = LabelEncoder()\n",
    "df['Path_encoded'] = label_encoder.fit_transform(df['Path'])\n",
    "df['IP_Address_encoded'] = label_encoder.fit_transform(df['IP_Address'])"
   ]
  },
  {
   "cell_type": "code",
   "execution_count": 12,
   "id": "1b3405a9",
   "metadata": {},
   "outputs": [],
   "source": [
    "# TF-IDF Vectorizer oluşturma ve fit etme\n",
    "text_data = df['Path'].astype(str)  # Path sütununu metin verisi olarak kullan\n",
    "vectorizer = TfidfVectorizer()\n",
    "tfidf_vectors = vectorizer.fit_transform(text_data).toarray().astype(np.float32)"
   ]
  },
  {
   "cell_type": "code",
   "execution_count": 13,
   "id": "325a779e",
   "metadata": {},
   "outputs": [],
   "source": [
    "additional_features = df[['IP_Address_encoded', 'Timestamp_unix', 'Path_encoded', 'Status_Code', 'Response_Size',\n",
    "                          'HTTP_Method_DELETE', 'HTTP_Method_GET', 'HTTP_Method_POST', 'HTTP_Method_PUT']].values.astype(np.float32)"
   ]
  },
  {
   "cell_type": "code",
   "execution_count": 14,
   "id": "ed5d1626",
   "metadata": {},
   "outputs": [
    {
     "data": {
      "text/plain": [
       "(1986, 9)"
      ]
     },
     "execution_count": 14,
     "metadata": {},
     "output_type": "execute_result"
    }
   ],
   "source": [
    "additional_features.shape"
   ]
  },
  {
   "cell_type": "code",
   "execution_count": 15,
   "id": "897d6637",
   "metadata": {},
   "outputs": [],
   "source": [
    "vectors = np.hstack([tfidf_vectors, additional_features])"
   ]
  },
  {
   "cell_type": "code",
   "execution_count": 16,
   "id": "58d2a1f5",
   "metadata": {},
   "outputs": [
    {
     "name": "stdout",
     "output_type": "stream",
     "text": [
      "(1986, 15)\n"
     ]
    }
   ],
   "source": [
    "print(vectors.shape)"
   ]
  },
  {
   "cell_type": "code",
   "execution_count": 17,
   "id": "3e108ab1",
   "metadata": {},
   "outputs": [],
   "source": [
    "scaler = StandardScaler()\n",
    "vectors_scaled = scaler.fit_transform(vectors)\n",
    "dimension = vectors_scaled.shape[1]\n"
   ]
  },
  {
   "cell_type": "code",
   "execution_count": 18,
   "id": "b847f6a4",
   "metadata": {},
   "outputs": [
    {
     "name": "stdout",
     "output_type": "stream",
     "text": [
      "15\n"
     ]
    }
   ],
   "source": [
    "print(dimension)"
   ]
  },
  {
   "cell_type": "code",
   "execution_count": 19,
   "id": "bbf1f7f6",
   "metadata": {},
   "outputs": [
    {
     "data": {
      "text/plain": [
       "15"
      ]
     },
     "execution_count": 19,
     "metadata": {},
     "output_type": "execute_result"
    }
   ],
   "source": [
    "dimension"
   ]
  },
  {
   "cell_type": "code",
   "execution_count": 20,
   "id": "f69926ae",
   "metadata": {},
   "outputs": [],
   "source": [
    "index = faiss.IndexFlatL2(dimension)\n",
    "index.add(vectors_scaled)"
   ]
  },
  {
   "cell_type": "code",
   "execution_count": 21,
   "id": "18784b95",
   "metadata": {},
   "outputs": [
    {
     "name": "stdout",
     "output_type": "stream",
     "text": [
      "Index size:  1986\n"
     ]
    }
   ],
   "source": [
    "print(\"Index size: \", index.ntotal)"
   ]
  },
  {
   "cell_type": "code",
   "execution_count": 22,
   "id": "77f88076",
   "metadata": {},
   "outputs": [
    {
     "name": "stdout",
     "output_type": "stream",
     "text": [
      "Query vector features: 15\n",
      "Expected features: 15\n",
      "Scaled Query Vector: [[ 2.2274029e+00  4.5085476e+09 -1.4385251e+02  5.3422192e+02\n",
      "   2.7372822e+03 -5.0534439e-01 -8.6418039e-01 -1.6637075e+06\n",
      "  -1.4347570e+00 -3.0641210e+00 -1.8922848e+00 -5.9402108e-01\n",
      "  -5.7076061e-01 -5.7153594e-01 -5.7308650e-01]]\n"
     ]
    }
   ],
   "source": [
    "\n",
    "# Eğitim veri setinizin özellik sayısını elde edin\n",
    "feature_count = vectors.shape[1]\n",
    "\n",
    "# Örnek sorgu verisi\n",
    "query_vector = np.array([[1, 1691768400, 0, 200, 1024, 0, 1, 0, 0]], dtype=np.float32)\n",
    "\n",
    "# Eğer sorgu vektörünüzün özellik sayısı eğitim veri setinizle uyumsuzsa, ek boş özellikler ekleyin\n",
    "if query_vector.shape[1] < feature_count:\n",
    "    # Eksik özellikleri sıfırlarla doldurun\n",
    "    additional_features = np.zeros((query_vector.shape[0], feature_count - query_vector.shape[1]), dtype=np.float32)\n",
    "    query_vector = np.hstack([query_vector, additional_features])\n",
    "\n",
    "# Özellik sayısını doğrulama\n",
    "print(f\"Query vector features: {query_vector.shape[1]}\")\n",
    "print(f\"Expected features: {feature_count}\")\n",
    "\n",
    "# Verileri standardize etme\n",
    "query_vector_scaled = scaler.transform(query_vector)\n",
    "\n",
    "print(\"Scaled Query Vector:\", query_vector_scaled)\n"
   ]
  },
  {
   "cell_type": "code",
   "execution_count": 23,
   "id": "66783e16",
   "metadata": {},
   "outputs": [],
   "source": [
    "distances, indices = index.search(query_vector_scaled, k=5)"
   ]
  },
  {
   "cell_type": "code",
   "execution_count": 24,
   "id": "78f8200f",
   "metadata": {},
   "outputs": [
    {
     "name": "stdout",
     "output_type": "stream",
     "text": [
      "Distances: [[2.0327004e+19 2.0327004e+19 2.0327004e+19 2.0327004e+19 2.0327004e+19]]\n",
      "Indices: [[0 1 2 3 4]]\n"
     ]
    }
   ],
   "source": [
    "print(\"Distances:\", distances)\n",
    "print(\"Indices:\", indices)"
   ]
  },
  {
   "cell_type": "code",
   "execution_count": 25,
   "id": "f0e800f3",
   "metadata": {},
   "outputs": [],
   "source": [
    "openai.api_key = ''"
   ]
  },
  {
   "cell_type": "code",
   "execution_count": 26,
   "id": "2077bed9",
   "metadata": {},
   "outputs": [],
   "source": [
    "def prepare_query_vector(query, vectorizer, scaler, target_dim):\n",
    "    tfidf_vector = vectorizer.transform([query]).toarray().astype(np.float32)\n",
    "    num_additional_features = target_dim - tfidf_vector.shape[1]\n",
    "    other_features_vector = np.zeros((1, num_additional_features), dtype=np.float32)\n",
    "    query_vector = np.hstack([tfidf_vector, other_features_vector])\n",
    "    query_vector_scaled = scaler.transform(query_vector)\n",
    "    return query_vector_scaled"
   ]
  },
  {
   "cell_type": "code",
   "execution_count": 27,
   "id": "9bcdc274",
   "metadata": {},
   "outputs": [],
   "source": [
    "def retrieve_similar_docs(query_vector, index, k=5):\n",
    "    # Sorgu vektörünü uygun formata getirin\n",
    "    query_vector = np.array(query_vector, dtype=np.float32).reshape(1, -1)\n",
    "    \n",
    "    # En yakın k komşuyu bul\n",
    "    distances, indices = index.search(query_vector, k)\n",
    "    \n",
    "    return distances[0], indices[0]\n"
   ]
  },
  {
   "cell_type": "code",
   "execution_count": 28,
   "id": "180b6bd5",
   "metadata": {},
   "outputs": [],
   "source": [
    "def rag_model(query, vectorizer, vectors, index, df, scaler, k=5):\n",
    "  \n",
    "    # Sorgu vektörü\n",
    "    query_vector = prepare_query_vector(query, vectorizer, scaler, vectors.shape[1])\n",
    "    \n",
    "    # Benzer belgeler\n",
    "    distances, indices = retrieve_similar_docs(query_vector, index, k)\n",
    "    \n",
    "    # Bağlam\n",
    "    context = \" \".join([str(df.iloc[i].to_dict()) for i in indices])\n",
    "    \n",
    "    # Yanıt\n",
    "    answer = generate_answer(context, query)\n",
    "    \n",
    "    return answer\n"
   ]
  },
  {
   "cell_type": "code",
   "execution_count": 29,
   "id": "c23893ec",
   "metadata": {},
   "outputs": [],
   "source": [
    "def generate_answer(context, query):\n",
    "    prompt = f\"Context: {context}\\nQuestion: {query}\\nAnswer:\"\n",
    "    response = openai.ChatCompletion.create(\n",
    "        model=\"gpt-3.5-turbo\",\n",
    "        messages=[\n",
    "            {\"role\": \"system\", \"content\": \"You are an assistant who searches for the correct answers to the questions asked in the database, finds them and answers them.\"},\n",
    "            {\"role\": \"user\", \"content\": prompt}\n",
    "        ]\n",
    "    )\n",
    "    \n",
    "    return response.choices[0].message['content'].strip()\n"
   ]
  },
  {
   "cell_type": "code",
   "execution_count": 30,
   "id": "7a0f67f1",
   "metadata": {},
   "outputs": [
    {
     "name": "stdout",
     "output_type": "stream",
     "text": [
      "(1, 15)\n"
     ]
    }
   ],
   "source": [
    "print(query_vector.shape)"
   ]
  },
  {
   "cell_type": "code",
   "execution_count": 31,
   "id": "5bca508d",
   "metadata": {},
   "outputs": [],
   "source": [
    "#pip install openai==0.28"
   ]
  },
  {
   "cell_type": "code",
   "execution_count": 32,
   "id": "cd917767",
   "metadata": {},
   "outputs": [
    {
     "name": "stdout",
     "output_type": "stream",
     "text": [
      "Toplamda 5 satır veri bulunmaktadır.\n"
     ]
    }
   ],
   "source": [
    "query = \"df de toplam Kaç satır veri var?\"\n",
    "answer = rag_model(query, vectorizer, vectors, index, df, scaler)\n",
    "print(answer)"
   ]
  },
  {
   "cell_type": "code",
   "execution_count": 33,
   "id": "dd9eb179",
   "metadata": {},
   "outputs": [
    {
     "name": "stdout",
     "output_type": "stream",
     "text": [
      "En az kullanılan HTTP yöntemi \"DELETE\" yöntemidir. Bu verilere göre DELETE yöntemi sadece bir kez kullanılmıştır.\n"
     ]
    }
   ],
   "source": [
    "query = \"En az kullanılan HTTP yöntemi nedir?\"\n",
    "answer = rag_model(query, vectorizer, vectors, index, df, scaler)\n",
    "print(answer)"
   ]
  },
  {
   "cell_type": "code",
   "execution_count": 34,
   "id": "22a6fd08",
   "metadata": {},
   "outputs": [
    {
     "name": "stdout",
     "output_type": "stream",
     "text": [
      "1. IP Address: 172.16.0.1, Path: '/contact.html', Response Size: 4579.0\n",
      "2. IP Address: 172.16.0.2, Path: '/contact.html', Response Size: 2923.0\n"
     ]
    }
   ],
   "source": [
    "query = \"Yanıt boyutu 2500.0 ile 5000.0 arasinda olan isteklerden 3 tanesinin IP adreslerini, yollarını ve boyutlarini listele.\"\n",
    "answer = rag_model(query, vectorizer, vectors, index, df, scaler)\n",
    "print(answer)"
   ]
  },
  {
   "cell_type": "code",
   "execution_count": 35,
   "id": "29edc636",
   "metadata": {},
   "outputs": [
    {
     "name": "stdout",
     "output_type": "stream",
     "text": [
      "En yüksek response size, 4579.0 olarak ölçülmüştür.\n"
     ]
    }
   ],
   "source": [
    "query = \"Data frame'deki En Yüksek response size nedir?\"\n",
    "answer = rag_model(query, vectorizer, vectors, index, df, scaler)\n",
    "print(answer)"
   ]
  },
  {
   "cell_type": "code",
   "execution_count": 36,
   "id": "ba05c034",
   "metadata": {},
   "outputs": [
    {
     "name": "stdout",
     "output_type": "stream",
     "text": [
      "IP adresi, '10.0.0.2' olan kullanıcıdır.\n"
     ]
    }
   ],
   "source": [
    "query = \"Response size 2422.0 olan kullanicinin IP adresi nedir\"\n",
    "answer = rag_model(query, vectorizer, vectors, index, df, scaler)\n",
    "print(answer)"
   ]
  },
  {
   "cell_type": "code",
   "execution_count": 37,
   "id": "b20d4674",
   "metadata": {
    "scrolled": true
   },
   "outputs": [
    {
     "name": "stdout",
     "output_type": "stream",
     "text": [
      "Delete metodu kullanılarak about.html adresine erişen kullanıcıların IP adresleri '172.16.0.1' adresine sahiptir.\n"
     ]
    }
   ],
   "source": [
    "query = \"Delete metodunu kullanip about.html adresine erisen kullanicilarin IP adresleri nedir\"\n",
    "answer = rag_model(query, vectorizer, vectors, index, df, scaler)\n",
    "print(answer)"
   ]
  },
  {
   "cell_type": "code",
   "execution_count": 38,
   "id": "24b1046c",
   "metadata": {
    "scrolled": true
   },
   "outputs": [
    {
     "name": "stdout",
     "output_type": "stream",
     "text": [
      "Kod 302'ye sahip olan '/contact.html' adresine erişen kullanıcı veya kullanıcılar HTTP GET methodunu kullanmışlardır. IP Adresleri ve Response Size değerleri ise aşağıdaki gibidir:\n",
      "\n",
      "1. IP Adresi: 10.0.0.2, Response Size: 2422.0\n",
      "2. IP Adresi: 172.16.0.2, Response Size: 2923.0\n"
     ]
    }
   ],
   "source": [
    "query = \"data framedeki 302 koduna sahip contact.html adresine erisen kullanıcı veya kullanicilar hangi islemleri yapmistir, IP Adresleri ve Respose size nedir?\"\n",
    "answer = rag_model(query, vectorizer, vectors, index, df, scaler)\n",
    "print(answer)"
   ]
  },
  {
   "cell_type": "code",
   "execution_count": 39,
   "id": "6284887d",
   "metadata": {
    "scrolled": true
   },
   "outputs": [
    {
     "data": {
      "text/plain": [
       "' \\ndef query_function():\\n    while True:\\n        query = input(\"Sorunuzu girin (çıkmak için \\'exit\\' yazın): \")\\n        if query.lower() == \\'exit\\':\\n            print(\"Çıkış Yapıldı.\")\\n            break\\n        answer = rag_model(query, vectorizer, vectors, index, df, scaler)\\n        print(f\"Cevap: {answer}\")\\n\\nquery_function()\\n\\n'"
      ]
     },
     "execution_count": 39,
     "metadata": {},
     "output_type": "execute_result"
    }
   ],
   "source": [
    "# Sorgular bu tip fonksiyonlar üzerinden de yapılabilir.\n",
    "''' \n",
    "def query_function():\n",
    "    while True:\n",
    "        query = input(\"Sorunuzu girin (çıkmak için 'exit' yazın): \")\n",
    "        if query.lower() == 'exit':\n",
    "            print(\"Çıkış Yapıldı.\")\n",
    "            break\n",
    "        answer = rag_model(query, vectorizer, vectors, index, df, scaler)\n",
    "        print(f\"Cevap: {answer}\")\n",
    "\n",
    "query_function()\n",
    "\n",
    "'''\n"
   ]
  },
  {
   "cell_type": "code",
   "execution_count": null,
   "id": "7e43ddff",
   "metadata": {},
   "outputs": [],
   "source": []
  },
  {
   "cell_type": "code",
   "execution_count": null,
   "id": "7bc3cc16",
   "metadata": {},
   "outputs": [],
   "source": []
  }
 ],
 "metadata": {
  "kernelspec": {
   "display_name": "Python 3 (ipykernel)",
   "language": "python",
   "name": "python3"
  },
  "language_info": {
   "codemirror_mode": {
    "name": "ipython",
    "version": 3
   },
   "file_extension": ".py",
   "mimetype": "text/x-python",
   "name": "python",
   "nbconvert_exporter": "python",
   "pygments_lexer": "ipython3",
   "version": "3.11.5"
  }
 },
 "nbformat": 4,
 "nbformat_minor": 5
}
